{
 "cells": [
  {
   "cell_type": "markdown",
   "metadata": {},
   "source": [
    "## 语法：while 条件：......  [else .......]"
   ]
  },
  {
   "cell_type": "code",
   "execution_count": 6,
   "metadata": {},
   "outputs": [],
   "source": [
    "a = 32"
   ]
  },
  {
   "cell_type": "code",
   "execution_count": 7,
   "metadata": {
    "collapsed": true
   },
   "outputs": [
    {
     "name": "stdout",
     "output_type": "stream",
     "text": [
      "32\n",
      "31\n",
      "30\n",
      "29\n",
      "28\n",
      "27\n",
      "26\n",
      "25\n",
      "24\n",
      "23\n",
      "22\n",
      "21\n",
      "20\n",
      "19\n",
      "18\n",
      "17\n",
      "16\n",
      "15\n",
      "14\n",
      "13\n",
      "12\n",
      "11\n",
      "10\n",
      "9\n",
      "8\n",
      "7\n",
      "6\n",
      "5\n",
      "4\n",
      "3\n",
      "2\n",
      "1\n",
      "end: 0\n"
     ]
    }
   ],
   "source": [
    "while a: # 死循环\n",
    "    print(a)\n",
    "    a = a - 1\n",
    "else:\n",
    "    print('end:',a)"
   ]
  },
  {
   "cell_type": "code",
   "execution_count": 8,
   "metadata": {},
   "outputs": [
    {
     "data": {
      "text/plain": [
       "0"
      ]
     },
     "execution_count": 8,
     "metadata": {},
     "output_type": "execute_result"
    }
   ],
   "source": [
    "a"
   ]
  },
  {
   "cell_type": "markdown",
   "metadata": {},
   "source": [
    "## while 和 for 循环有什么区别\n",
    "\n",
    "\n",
    "##### while 循环\n",
    "重点是条件循环，一开始进入循环的时候，就需要对条件进行判断。\n",
    "\n",
    "\n",
    "##### for 循环\n",
    "循环条件是明确的集合，循环次数是明确的。"
   ]
  },
  {
   "cell_type": "markdown",
   "metadata": {},
   "source": [
    "## 关键字：break，解释：结束当前循环"
   ]
  },
  {
   "cell_type": "markdown",
   "metadata": {},
   "source": [
    "## 关键字：continue，解释：跳过本次循环"
   ]
  },
  {
   "cell_type": "code",
   "execution_count": 9,
   "metadata": {},
   "outputs": [
    {
     "name": "stdout",
     "output_type": "stream",
     "text": [
      "输出： s\n",
      "输出： d\n",
      "输出： k\n",
      "输出： f\n",
      "输出： h\n",
      "跳过本次循环\n",
      "输出： j\n",
      "输出： h\n",
      "输出： f\n",
      "跳过本次循环\n",
      "输出： e\n"
     ]
    }
   ],
   "source": [
    "b = 'sdkfhwjhfwe'\n",
    "for i in b:\n",
    "    if i=='w':\n",
    "        print('跳过本次循环')\n",
    "        continue\n",
    "        print(i,'跳过')\n",
    "    else:\n",
    "        print('输出：',i)"
   ]
  },
  {
   "cell_type": "code",
   "execution_count": 12,
   "metadata": {},
   "outputs": [
    {
     "data": {
      "text/plain": [
       "12"
      ]
     },
     "execution_count": 12,
     "metadata": {},
     "output_type": "execute_result"
    }
   ],
   "source": [
    "op = [12,3,4124,214,42,425,12512515,312,3,123,43,9]\n",
    "len(op)"
   ]
  },
  {
   "cell_type": "code",
   "execution_count": 13,
   "metadata": {},
   "outputs": [
    {
     "name": "stdout",
     "output_type": "stream",
     "text": [
      "当前值： 9\n",
      "当前值： 43\n",
      "当前值： 123\n",
      "当前值： 3\n",
      "当前值： 312\n",
      "当前值： 12512515\n",
      "当前值大于10000，结束当前循环\n"
     ]
    }
   ],
   "source": [
    "while op:\n",
    "    p = op.pop()\n",
    "    print('当前值：',p)\n",
    "    if p>10000:\n",
    "        print('当前值大于10000，结束当前循环')\n",
    "        break"
   ]
  },
  {
   "cell_type": "code",
   "execution_count": null,
   "metadata": {},
   "outputs": [],
   "source": []
  }
 ],
 "metadata": {
  "kernelspec": {
   "display_name": "Python 3",
   "language": "python",
   "name": "python3"
  },
  "language_info": {
   "codemirror_mode": {
    "name": "ipython",
    "version": 3
   },
   "file_extension": ".py",
   "mimetype": "text/x-python",
   "name": "python",
   "nbconvert_exporter": "python",
   "pygments_lexer": "ipython3",
   "version": "3.6.5"
  }
 },
 "nbformat": 4,
 "nbformat_minor": 2
}
